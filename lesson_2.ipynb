{
 "cells": [
  {
   "cell_type": "code",
   "execution_count": 1,
   "metadata": {},
   "outputs": [],
   "source": [
    "import numpy as np"
   ]
  },
  {
   "cell_type": "markdown",
   "metadata": {},
   "source": [
    "## Задание 1. Напишите уравнение параболы, проходящей через три точки (x,y): (1,2), (3,10), (5,1)"
   ]
  },
  {
   "cell_type": "code",
   "execution_count": 3,
   "metadata": {},
   "outputs": [],
   "source": [
    "m = np.array([\n",
    "    [1,1,1],\n",
    "    [9,3,1],\n",
    "    [25,5,1]\n",
    "])\n",
    "y = np.array([2,10,1])"
   ]
  },
  {
   "cell_type": "code",
   "execution_count": 4,
   "metadata": {},
   "outputs": [
    {
     "data": {
      "text/plain": [
       "array([-2.125, 12.5  , -8.375])"
      ]
     },
     "execution_count": 4,
     "metadata": {},
     "output_type": "execute_result"
    }
   ],
   "source": [
    "np.linalg.solve(m,y)"
   ]
  },
  {
   "cell_type": "markdown",
   "metadata": {},
   "source": [
    "ответ - y = -2.125*x^2 + 12.5*x -8.375"
   ]
  },
  {
   "cell_type": "markdown",
   "metadata": {},
   "source": [
    "## Задание 2. Известно, что свежий огурец на 99% состоит из воды. Месяц назад взвесили мешок со свежими огурцами. Получилось, что огурцов ровно 100 кг. Мешок убрали, а через месяц снова взвесили. Огурцы за это время усохли, и теперь вода составляет уже только 98% их веса. Сколько теперь (в кг) весят огурцы?\n"
   ]
  },
  {
   "cell_type": "markdown",
   "metadata": {},
   "source": [
    "В первом звешивании масса самого огурца - 1% - 1 кг. Во втором 1 кг стал равен 2% - соотвественно все огурцы весят 50 кг."
   ]
  },
  {
   "cell_type": "markdown",
   "metadata": {},
   "source": [
    "## Задание 3. Определение логарифма. Решить уравнения:"
   ]
  },
  {
   "cell_type": "markdown",
   "metadata": {},
   "source": [
    "1. 8\n",
    "1. 8.229\n",
    "1. log (8) ( 2 ^ (8x-4) = 4  \n",
    "   1/3 * log (2) ( 2^ (8x-4) = 4 * log (2) (2)  \n",
    "   2 ^ (8x-4) = 2 ^ 12  \n",
    "   8x-4 = 12  \n",
    "   x = 2  \n",
    "1. 3 ^ (log (9) (5x-5)) = 5  \n",
    "   log(3)(5) =1/2 * log(3)(5x-5)  \n",
    "   2 * log(3)(5) = log(3)(5x-5)  \n",
    "   log(3)(25) = log(3)(5x-5)  \n",
    "   25 = 5x-5  \n",
    "   x = 6  \n",
    "1. x^(log(3)(x)+1) = 9  \n",
    "   log(x)(9) = log(3)(x) + 1  \n",
    "   2log(x)(3) = log(3)(x) + 1  \n",
    "   2 / log(3)(x) = log(3)(x) + 1  \n",
    "   log^2(3)(x) + log(3)(x) -2 = 0  \n",
    "   y = log(3)(x)  \n",
    "   y^2 + y - 2 = 0  \n",
    "   y = 1, y = -2  \n",
    "   log(3)(x) = 1, x = 3  \n",
    "   log(3)(x) = -2, x = 1/9  \n",
    "    "
   ]
  },
  {
   "cell_type": "markdown",
   "metadata": {},
   "source": [
    "## Задание 4. Свойства логарифмов. Вычислить:"
   ]
  },
  {
   "cell_type": "markdown",
   "metadata": {},
   "source": [
    "1. log(4)(16) = 2 * log(4)(4) = 2  \n",
    "1. log(5)(1/25) = -2 * log(5)(5) = -2  \n",
    "1. log(25)(5) = 1/2 * log(5)(5) = 1/2  \n",
    "1. log(3)(27 ^ 0.5) = 0.5 * log(3)(3*9) = 0.5 * (1 + 2) = 1.5  \n",
    "1. log(2)(12) - log(2)(3) = log(2)(12/3) = 2  \n",
    "1. log(6)(12) + log(6)(3) = log(6)(36) = 2  \n",
    "1. e ^ ln(5) = 5  \n",
    "1. log(2)(225) / log(2)(15) = log(2)(15 ^ 2) / log(2)(15) = 2  \n",
    "1. log(4)(32) + log(0.1)(10) = log(4)(32) + log(10 ^ -1)(10) =  \n",
    "    log(4)(32) - 1 = log(4)(32) - log(4)(4) = log(4)(8) =  \n",
    "    1/2 * log(2)(8) = 1/2 * 3 = 1.5  \n",
    "1. 9 ^ (log(3)(5 ^ -2)) = 3 ^ (2 * 1/2 log(3)(5)) = 3 ^ (log(3)(5)) = 5"
   ]
  },
  {
   "cell_type": "code",
   "execution_count": null,
   "metadata": {},
   "outputs": [],
   "source": []
  }
 ],
 "metadata": {
  "kernelspec": {
   "display_name": "Python 3",
   "language": "python",
   "name": "python3"
  },
  "language_info": {
   "codemirror_mode": {
    "name": "ipython",
    "version": 3
   },
   "file_extension": ".py",
   "mimetype": "text/x-python",
   "name": "python",
   "nbconvert_exporter": "python",
   "pygments_lexer": "ipython3",
   "version": "3.7.3"
  }
 },
 "nbformat": 4,
 "nbformat_minor": 2
}
